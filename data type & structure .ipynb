{
 "cells": [
  {
   "cell_type": "code",
   "execution_count": 1,
   "id": "a96f96ec-d9b2-462d-aefa-af37e33359cc",
   "metadata": {},
   "outputs": [
    {
     "name": "stdout",
     "output_type": "stream",
     "text": [
      "pampa bairagi\n"
     ]
    }
   ],
   "source": [
    "string1=\"pampa bairagi\"\n",
    "print(string1)"
   ]
  },
  {
   "cell_type": "code",
   "execution_count": 4,
   "id": "8c49f47c-7e85-477f-b2c3-630a26fd4236",
   "metadata": {},
   "outputs": [
    {
     "data": {
      "text/plain": [
       "11"
      ]
     },
     "execution_count": 4,
     "metadata": {},
     "output_type": "execute_result"
    }
   ],
   "source": [
    "string2=\"hello world\"\n",
    "len(string2)"
   ]
  },
  {
   "cell_type": "code",
   "execution_count": 5,
   "id": "e8bb55d5-6f5d-4b57-bbe8-3c98e4a0bac1",
   "metadata": {},
   "outputs": [
    {
     "data": {
      "text/plain": [
       "'pyt'"
      ]
     },
     "execution_count": 5,
     "metadata": {},
     "output_type": "execute_result"
    }
   ],
   "source": [
    "string3=\"python pragramming\"\n",
    "string3[0:3]"
   ]
  },
  {
   "cell_type": "code",
   "execution_count": 6,
   "id": "3c392082-e19e-45e8-b481-450b26abda4a",
   "metadata": {},
   "outputs": [
    {
     "data": {
      "text/plain": [
       "'HELLO'"
      ]
     },
     "execution_count": 6,
     "metadata": {},
     "output_type": "execute_result"
    }
   ],
   "source": [
    "string4=\"hello\"\n",
    "string4.upper()"
   ]
  },
  {
   "cell_type": "code",
   "execution_count": 7,
   "id": "d5e03348-f5b1-4010-945e-46bea56c07bf",
   "metadata": {},
   "outputs": [
    {
     "data": {
      "text/plain": [
       "'I like orange'"
      ]
     },
     "execution_count": 7,
     "metadata": {},
     "output_type": "execute_result"
    }
   ],
   "source": [
    "string5=\"I like apple\"\n",
    "string5.replace(\"apple\",\"orange\")"
   ]
  },
  {
   "cell_type": "code",
   "execution_count": 5,
   "id": "0eec90b5-da39-4ad8-b920-793d8394c421",
   "metadata": {},
   "outputs": [
    {
     "name": "stdout",
     "output_type": "stream",
     "text": [
      "[1, 2, 3, 4, 10]\n"
     ]
    }
   ],
   "source": [
    "my_list = [1, 2, 3, 4]\n",
    "my_list.append(10)\n",
    "print(my_list)"
   ]
  },
  {
   "cell_type": "code",
   "execution_count": 6,
   "id": "ecf0dc0f-c7c6-424a-9800-d16d3d6fae18",
   "metadata": {},
   "outputs": [
    {
     "name": "stdout",
     "output_type": "stream",
     "text": [
      "[1, 2, 4, 5]\n"
     ]
    }
   ],
   "source": [
    "my_list = [1, 2, 3, 4, 5]\n",
    "my_list.remove(3)\n",
    "print(my_list)"
   ]
  },
  {
   "cell_type": "code",
   "execution_count": 39,
   "id": "45b9fbc1-3ec3-41c9-8d4a-ad8fa0cfcc38",
   "metadata": {},
   "outputs": [
    {
     "data": {
      "text/plain": [
       "['a', 'b', 'c', 'd']"
      ]
     },
     "execution_count": 39,
     "metadata": {},
     "output_type": "execute_result"
    }
   ],
   "source": [
    "list1=[\"a\",\"b\",\"c\",\"d\"]\n",
    "list1"
   ]
  },
  {
   "cell_type": "code",
   "execution_count": 41,
   "id": "7ba20747-cbc7-4181-b444-04b3a3aadf58",
   "metadata": {},
   "outputs": [
    {
     "data": {
      "text/plain": [
       "'b'"
      ]
     },
     "execution_count": 41,
     "metadata": {},
     "output_type": "execute_result"
    }
   ],
   "source": [
    "list1[1]"
   ]
  },
  {
   "cell_type": "code",
   "execution_count": 43,
   "id": "83e1ae78-e9f3-47c5-90ed-3b055251fc71",
   "metadata": {},
   "outputs": [
    {
     "data": {
      "text/plain": [
       "[50, 40, 30, 20, 10]"
      ]
     },
     "execution_count": 43,
     "metadata": {},
     "output_type": "execute_result"
    }
   ],
   "source": [
    "lis=[10,20,30,40,50]\n",
    "lis.reverse()\n",
    "lis"
   ]
  },
  {
   "cell_type": "code",
   "execution_count": 28,
   "id": "c1c8a921-12fe-40ac-bae9-cfb5b10692ed",
   "metadata": {},
   "outputs": [
    {
     "data": {
      "text/plain": [
       "(100, 200, 300)"
      ]
     },
     "execution_count": 28,
     "metadata": {},
     "output_type": "execute_result"
    }
   ],
   "source": [
    "tuple=(100,200,300)\n",
    "tuple"
   ]
  },
  {
   "cell_type": "code",
   "execution_count": 20,
   "id": "899d433e-f0bf-442a-a2bf-9f5ba71074ec",
   "metadata": {},
   "outputs": [
    {
     "data": {
      "text/plain": [
       "('green', 'blue', 'yellow')"
      ]
     },
     "execution_count": 20,
     "metadata": {},
     "output_type": "execute_result"
    }
   ],
   "source": [
    "t=(\"red\",\"green\",\"blue\",\"yellow\")\n",
    "t[1:4]"
   ]
  },
  {
   "cell_type": "code",
   "execution_count": 21,
   "id": "9a220003-56c1-4ed6-b8ee-a61de25d12dd",
   "metadata": {},
   "outputs": [
    {
     "data": {
      "text/plain": [
       "5"
      ]
     },
     "execution_count": 21,
     "metadata": {},
     "output_type": "execute_result"
    }
   ],
   "source": [
    "tuple1=(10,20,5,15)\n",
    "min(tuple1)"
   ]
  },
  {
   "cell_type": "code",
   "execution_count": 26,
   "id": "ad079f6d-e2e8-483f-90a6-689ac017a010",
   "metadata": {},
   "outputs": [
    {
     "data": {
      "text/plain": [
       "1"
      ]
     },
     "execution_count": 26,
     "metadata": {},
     "output_type": "execute_result"
    }
   ],
   "source": [
    "tuple3=(\"dog\",\"cat\",\"rabbit\")\n",
    "tuple3.index(\"cat\")"
   ]
  },
  {
   "cell_type": "code",
   "execution_count": 22,
   "id": "667bea39-4ae1-446c-aeab-8dc55c8f5b4e",
   "metadata": {},
   "outputs": [
    {
     "data": {
      "text/plain": [
       "True"
      ]
     },
     "execution_count": 22,
     "metadata": {},
     "output_type": "execute_result"
    }
   ],
   "source": [
    "tuple2=(\"apple\",\"mango\",\"kiwi\")\n",
    "\"kiwi\" in tuple2"
   ]
  },
  {
   "cell_type": "code",
   "execution_count": 27,
   "id": "f2e12272-bfb3-4be6-ad2d-a0c17be02b33",
   "metadata": {},
   "outputs": [
    {
     "data": {
      "text/plain": [
       "{'a', 'b', 'c'}"
      ]
     },
     "execution_count": 27,
     "metadata": {},
     "output_type": "execute_result"
    }
   ],
   "source": [
    "set={'a','b','c'}\n",
    "set"
   ]
  },
  {
   "cell_type": "code",
   "execution_count": 7,
   "id": "6496baad-2aa8-470d-8db7-5caba140f20c",
   "metadata": {},
   "outputs": [
    {
     "data": {
      "text/plain": [
       "{1, 2, 3, 4, 5}"
      ]
     },
     "execution_count": 7,
     "metadata": {},
     "output_type": "execute_result"
    }
   ],
   "source": [
    "s={1,2,3,4,5}\n",
    "s"
   ]
  },
  {
   "cell_type": "code",
   "execution_count": 8,
   "id": "e7019e0c-6683-4581-844c-877ab7504ee1",
   "metadata": {},
   "outputs": [
    {
     "data": {
      "text/plain": [
       "{1, 2, 3}"
      ]
     },
     "execution_count": 8,
     "metadata": {},
     "output_type": "execute_result"
    }
   ],
   "source": [
    "s={1,2,3,4,}\n",
    "s.remove(4)\n",
    "s"
   ]
  },
  {
   "cell_type": "code",
   "execution_count": 42,
   "id": "9b32527f-3a64-4001-9548-49cd26acf6f3",
   "metadata": {},
   "outputs": [
    {
     "data": {
      "text/plain": [
       "{1, 2, 3, 4, 5}"
      ]
     },
     "execution_count": 42,
     "metadata": {},
     "output_type": "execute_result"
    }
   ],
   "source": [
    "s1={1,2,3}\n",
    "s2={3,4,5}\n",
    "s1|s2"
   ]
  },
  {
   "cell_type": "code",
   "execution_count": 43,
   "id": "75da24cd-6dd5-4e51-a4b6-c422a055b77c",
   "metadata": {},
   "outputs": [
    {
     "data": {
      "text/plain": [
       "{2, 3}"
      ]
     },
     "execution_count": 43,
     "metadata": {},
     "output_type": "execute_result"
    }
   ],
   "source": [
    "s3={1,2,3}\n",
    "s4={2,3,4}\n",
    "s3&s4"
   ]
  },
  {
   "cell_type": "code",
   "execution_count": 1,
   "id": "24ce3a2b-093e-453d-a7e6-46a73174fd62",
   "metadata": {},
   "outputs": [
    {
     "data": {
      "text/plain": [
       "{'age', 'city', 'name'}"
      ]
     },
     "execution_count": 1,
     "metadata": {},
     "output_type": "execute_result"
    }
   ],
   "source": [
    "d={\"name\",\"age\",\"city\"}\n",
    "d"
   ]
  },
  {
   "cell_type": "code",
   "execution_count": 11,
   "id": "84f1b9a2-77e4-498a-b9c4-babd3d3da7d6",
   "metadata": {},
   "outputs": [
    {
     "data": {
      "text/plain": [
       "{'name': 'John', 'age': 25, 'country': 'USA'}"
      ]
     },
     "execution_count": 11,
     "metadata": {},
     "output_type": "execute_result"
    }
   ],
   "source": [
    "dic={\"name\":\"John\",\"age\":25}\n",
    "dic[\"country\"]=\"USA\"\n",
    "dic"
   ]
  },
  {
   "cell_type": "code",
   "execution_count": 9,
   "id": "8eb5cda5-e58d-4ce9-b4e4-eff98721fa24",
   "metadata": {},
   "outputs": [
    {
     "data": {
      "text/plain": [
       "'Alice'"
      ]
     },
     "execution_count": 9,
     "metadata": {},
     "output_type": "execute_result"
    }
   ],
   "source": [
    "dic2={\"name\":\"Alice\",\"age\":30}\n",
    "dic2[\"name\"]"
   ]
  },
  {
   "cell_type": "code",
   "execution_count": 14,
   "id": "0ea8403a-d9ff-4e03-877c-6f23c22a83ce",
   "metadata": {},
   "outputs": [
    {
     "data": {
      "text/plain": [
       "{'name': 'Bob', 'city': 'New york'}"
      ]
     },
     "execution_count": 14,
     "metadata": {},
     "output_type": "execute_result"
    }
   ],
   "source": [
    "dic1={'name':'Bob','age':22,'city':'New york'}\n",
    "del dic1['age']\n",
    "dic1"
   ]
  },
  {
   "cell_type": "code",
   "execution_count": 1,
   "id": "57656d03-a721-4351-9daa-c024aa2ca96c",
   "metadata": {},
   "outputs": [
    {
     "name": "stdout",
     "output_type": "stream",
     "text": [
      "The key 'city' exists in the dictionary.\n"
     ]
    }
   ],
   "source": [
    "my_dict = {'name': 'alice', 'city': 'paris'}\n",
    "\n",
    "if 'city' in my_dict:\n",
    "    print(\"The key 'city' exists in the dictionary.\")\n",
    "else:\n",
    "    print(\"The key 'city' does not exist in the dictionary.\")"
   ]
  },
  {
   "cell_type": "code",
   "execution_count": 19,
   "id": "bdf0390f-4ee6-47cf-8f0e-094f9d0b318b",
   "metadata": {},
   "outputs": [
    {
     "data": {
      "text/plain": [
       "['Pampa Bairagi']"
      ]
     },
     "execution_count": 19,
     "metadata": {},
     "output_type": "execute_result"
    }
   ],
   "source": [
    "list10=[\"Pampa Bairagi\"]\n",
    "list10"
   ]
  },
  {
   "cell_type": "code",
   "execution_count": 20,
   "id": "0385f5d5-95ef-4441-849b-fb224851b238",
   "metadata": {},
   "outputs": [
    {
     "data": {
      "text/plain": [
       "'pampa bairagi'"
      ]
     },
     "execution_count": 20,
     "metadata": {},
     "output_type": "execute_result"
    }
   ],
   "source": [
    "tuple10=(\"pampa bairagi\")\n",
    "tuple10"
   ]
  },
  {
   "cell_type": "code",
   "execution_count": 22,
   "id": "67024603-2d58-4630-ac77-da1027840c5d",
   "metadata": {},
   "outputs": [
    {
     "data": {
      "text/plain": [
       "{'name': 'pampa'}"
      ]
     },
     "execution_count": 22,
     "metadata": {},
     "output_type": "execute_result"
    }
   ],
   "source": [
    "dictionary={'name':\"pampa\"}\n",
    "dictionary\n"
   ]
  },
  {
   "cell_type": "code",
   "execution_count": 3,
   "id": "85c91f27-18eb-463a-8786-00ea78bbcd19",
   "metadata": {},
   "outputs": [
    {
     "data": {
      "text/plain": [
       "[5, 8, 12, 40, 98]"
      ]
     },
     "execution_count": 3,
     "metadata": {},
     "output_type": "execute_result"
    }
   ],
   "source": [
    "my_list = [40, 5, 8, 12, 98]\n",
    "my_list.sort()\n",
    "my_list"
   ]
  },
  {
   "cell_type": "code",
   "execution_count": 12,
   "id": "04c8126a-1778-4226-8876-3310f38b1b25",
   "metadata": {},
   "outputs": [
    {
     "name": "stdout",
     "output_type": "stream",
     "text": [
      "cherry\n"
     ]
    }
   ],
   "source": [
    "my_list = [\"apple\", \"banana\", \"cherry\", \"mango\"]\n",
    "third_element = my_list[2]\n",
    "print(third_element)"
   ]
  },
  {
   "cell_type": "code",
   "execution_count": 29,
   "id": "09e61eb9-45cb-4e24-8f46-12c6df9f307c",
   "metadata": {},
   "outputs": [
    {
     "data": {
      "text/plain": [
       "{'name': 'Pampa', 'age': 27, 'country': 'India'}"
      ]
     },
     "execution_count": 29,
     "metadata": {},
     "output_type": "execute_result"
    }
   ],
   "source": [
    "dictionary11={\"name\":\"Pampa\",\"age\":27}\n",
    "dictionary11[\"country\"]=\"India\"\n",
    "dictionary11"
   ]
  },
  {
   "cell_type": "code",
   "execution_count": 4,
   "id": "ebd4d42a-e1cd-425f-b7e2-ef09a4fe15b3",
   "metadata": {},
   "outputs": [
    {
     "name": "stdout",
     "output_type": "stream",
     "text": [
      "{'orange', 'apple', 'banana', 'grape'}\n"
     ]
    }
   ],
   "source": [
    "my_list = [\"apple\", \"banana\", \"orange\", \"apple\", \"grape\", \"banana\"]\n",
    "my_set = set(my_list)\n",
    "print(my_set)"
   ]
  },
  {
   "cell_type": "code",
   "execution_count": null,
   "id": "740ee0e5-0c95-4de6-a444-506c33cd5a5c",
   "metadata": {},
   "outputs": [],
   "source": []
  }
 ],
 "metadata": {
  "kernelspec": {
   "display_name": "Python 3 (ipykernel)",
   "language": "python",
   "name": "python3"
  },
  "language_info": {
   "codemirror_mode": {
    "name": "ipython",
    "version": 3
   },
   "file_extension": ".py",
   "mimetype": "text/x-python",
   "name": "python",
   "nbconvert_exporter": "python",
   "pygments_lexer": "ipython3",
   "version": "3.13.5"
  }
 },
 "nbformat": 4,
 "nbformat_minor": 5
}
